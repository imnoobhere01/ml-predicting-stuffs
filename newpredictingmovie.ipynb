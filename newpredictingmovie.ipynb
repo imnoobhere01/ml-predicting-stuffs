{
 "cells": [
  {
   "cell_type": "code",
   "execution_count": 1,
   "id": "dcdd6bfe-8343-4970-b433-3b1b3e1d22fc",
   "metadata": {},
   "outputs": [
    {
     "name": "stdout",
     "output_type": "stream",
     "text": [
      "Accuracy: 1.0\n",
      "              precision    recall  f1-score   support\n",
      "\n",
      "           0       1.00      1.00      1.00         2\n",
      "\n",
      "    accuracy                           1.00         2\n",
      "   macro avg       1.00      1.00      1.00         2\n",
      "weighted avg       1.00      1.00      1.00         2\n",
      "\n",
      "Predicted Outcome for age 37 and glucose 97: Diabetic\n"
     ]
    }
   ],
   "source": [
    "import pandas as pd\n",
    "from sklearn.model_selection import train_test_split\n",
    "from sklearn.preprocessing import StandardScaler\n",
    "from sklearn.linear_model import LogisticRegression\n",
    "from sklearn.metrics import accuracy_score, classification_report\n",
    "\n",
    "# Example dataset\n",
    "data = {\n",
    "    'Age': [25, 30, 35, 40, 45, 50],\n",
    "    'Glucose': [85, 90, 95, 100, 105, 110],\n",
    "    'Diabetic': [0, 0, 0, 1, 1, 1]\n",
    "}\n",
    "df = pd.DataFrame(data)\n",
    "\n",
    "# Split the data\n",
    "X = df[['Age', 'Glucose']]\n",
    "y = df['Diabetic']\n",
    "X_train, X_test, y_train, y_test = train_test_split(X, y, test_size=0.2, random_state=42)\n",
    "\n",
    "# Standardize the data\n",
    "scaler = StandardScaler()\n",
    "X_train = scaler.fit_transform(X_train)\n",
    "X_test = scaler.transform(X_test)\n",
    "\n",
    "# Train the logistic regression model\n",
    "model = LogisticRegression()\n",
    "model.fit(X_train, y_train)\n",
    "\n",
    "# Make predictions\n",
    "y_pred = model.predict(X_test)\n",
    "\n",
    "# Evaluate the model\n",
    "print(\"Accuracy:\", accuracy_score(y_test, y_pred))\n",
    "print(classification_report(y_test, y_pred))\n",
    "\n",
    "# Predict diabetes based on new user input\n",
    "def predict_diabetes(age, glucose):\n",
    "    input_data = pd.DataFrame([[age, glucose]], columns=['Age', 'Glucose'])\n",
    "    input_scaled = scaler.transform(input_data)\n",
    "    prediction = model.predict(input_scaled)\n",
    "    return \"Diabetic\" if prediction[0] == 1 else \"Not Diabetic\"\n",
    "\n",
    "# Example prediction\n",
    "new_age = 37\n",
    "new_glucose = 97\n",
    "result = predict_diabetes(new_age, new_glucose)\n",
    "print(\"Predicted Outcome for age 37 and glucose 97:\", result)\n"
   ]
  },
  {
   "cell_type": "code",
   "execution_count": null,
   "id": "277ab2a7-5cc0-46b4-baa8-bd89d6e346c7",
   "metadata": {},
   "outputs": [],
   "source": []
  }
 ],
 "metadata": {
  "kernelspec": {
   "display_name": "Python 3 (ipykernel)",
   "language": "python",
   "name": "python3"
  },
  "language_info": {
   "codemirror_mode": {
    "name": "ipython",
    "version": 3
   },
   "file_extension": ".py",
   "mimetype": "text/x-python",
   "name": "python",
   "nbconvert_exporter": "python",
   "pygments_lexer": "ipython3",
   "version": "3.12.3"
  }
 },
 "nbformat": 4,
 "nbformat_minor": 5
}
